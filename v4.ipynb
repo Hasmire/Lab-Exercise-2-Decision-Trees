{
 "cells": [
  {
   "cell_type": "code",
   "execution_count": null,
   "metadata": {},
   "outputs": [],
   "source": [
    "from sklearn.tree import DecisionTreeClassifier\n",
    "from sklearn.tree import plot_tree\n",
    "from sklearn.metrics import accuracy_score\n",
    "from sklearn.metrics import precision_score\n",
    "from sklearn.metrics import recall_score\n",
    "from sklearn.metrics import f1_score\n",
    "\n",
    "import seaborn as sns\n",
    "import pandas as pd\n",
    "import numpy as np\n",
    "\n",
    "import matplotlib.pyplot as plt\n",
    "\n",
    "import warnings\n",
    "warnings.filterwarnings('ignore', category=FutureWarning, module='seaborn')\n",
    "warnings.filterwarnings('ignore', category=FutureWarning, module='pandas')"
   ]
  },
  {
   "cell_type": "code",
   "execution_count": null,
   "metadata": {},
   "outputs": [],
   "source": [
    "df = pd.read_csv(\"diabetes.csv\")"
   ]
  },
  {
   "cell_type": "code",
   "execution_count": null,
   "metadata": {},
   "outputs": [],
   "source": [
    "df.info()"
   ]
  },
  {
   "cell_type": "code",
   "execution_count": null,
   "metadata": {},
   "outputs": [],
   "source": [
    "# sns.set(style=\"whitegrid\")\n",
    "\n",
    "# # Create a figure and axis for the subplots\n",
    "# fig, axes = plt.subplots(nrows=3, ncols=3, figsize=(15, 10))\n",
    "\n",
    "# # Flatten the 2D axes array for easier indexing\n",
    "# axes = axes.flatten()\n",
    "\n",
    "# # Loop through each column (excluding the 'Outcome' column)\n",
    "# for i, column in enumerate(df.columns[:-1]):\n",
    "#     sns.histplot(data=df, x=column, ax=axes[i], kde=True)\n",
    "#     axes[i].set_title(f'Distribution of {column}')\n",
    "\n",
    "# # Adjust the layout to prevent overlap\n",
    "# plt.tight_layout()\n",
    "\n",
    "# # Show the plots\n",
    "# plt.show()"
   ]
  },
  {
   "cell_type": "code",
   "execution_count": null,
   "metadata": {},
   "outputs": [],
   "source": [
    "# # Create a figure and axis for the subplots\n",
    "# fig, axes = plt.subplots(nrows=3, ncols=3, figsize=(15, 10))\n",
    "\n",
    "# # Flatten the 2D axes array for easier indexing\n",
    "# axes = axes.flatten()   \n",
    "\n",
    "# # Loop through each column (excluding the 'Outcome' column)\n",
    "# for i, column in enumerate(df.columns):\n",
    "#     # Exclude the 'Outcome' column\n",
    "#     if column != 'Outcome':\n",
    "#         # Create a boxplot for the current column\n",
    "#         sns.boxplot(data=df, y=column, ax=axes[i])\n",
    "#         axes[i].set_title(f'Boxplot of {column}')\n",
    "        \n",
    "# # Adjust the layout to prevent overlap\n",
    "# plt.tight_layout()\n",
    "\n",
    "# # Show the plots\n",
    "# plt.show()"
   ]
  },
  {
   "cell_type": "code",
   "execution_count": null,
   "metadata": {},
   "outputs": [],
   "source": [
    "df['BMI_to_Age_Ratio'] = df['BMI'] / df['Age']"
   ]
  },
  {
   "cell_type": "code",
   "execution_count": null,
   "metadata": {},
   "outputs": [],
   "source": [
    "df['Insulin_Indicator'] = (df['Insulin'] > 0).astype(int)"
   ]
  },
  {
   "cell_type": "code",
   "execution_count": null,
   "metadata": {},
   "outputs": [],
   "source": [
    "df['Glucose'] = df[['Glucose', 'Insulin']].mean(axis=1)"
   ]
  },
  {
   "cell_type": "code",
   "execution_count": null,
   "metadata": {},
   "outputs": [],
   "source": [
    "df['BP_BMI_Ratio'] = df['BloodPressure'] / df['BMI'].replace(0, np.nan)\n",
    "df['BP_BMI_Ratio'].fillna(0, inplace=True)\n",
    "df['BP_BMI_Ratio'].describe()"
   ]
  },
  {
   "cell_type": "code",
   "execution_count": null,
   "metadata": {},
   "outputs": [],
   "source": [
    "# Define the bins and labels for age categories\n",
    "age_bins = [0, 12, 20, 30, 50, 100]\n",
    "age_labels = ['Children', 'Teenagers', 'Young Adults', 'Middle-Aged', 'Senior Citizens']\n",
    "\n",
    "# Create the 'Age_Category' feature\n",
    "df['Age_Category'] = pd.cut(df['Age'], bins=age_bins, labels=age_labels)"
   ]
  },
  {
   "cell_type": "code",
   "execution_count": null,
   "metadata": {},
   "outputs": [],
   "source": [
    "# Define the bins and labels for blood pressure categories\n",
    "blood_pressure_bins = [0, 80, 89, 120, 130, 1000]\n",
    "blood_pressure_labels = ['Low', 'Normal', 'Elevated', 'High Stage 1', 'High Stage 2']\n",
    "\n",
    "# Create the 'BloodPressure_Category' feature\n",
    "df['BloodPressure_Category'] = pd.cut(df['BloodPressure'], bins=blood_pressure_bins, labels=blood_pressure_labels)"
   ]
  },
  {
   "cell_type": "code",
   "execution_count": null,
   "metadata": {},
   "outputs": [],
   "source": [
    "bins = [0, 18.5, 24.9, 29.9, 34.9, 100]\n",
    "labels = ['Underweight', 'Normal Weight', 'Overweight', 'Obese (Class I)', 'Obese (Class II)']\n",
    "\n",
    "df['BMI_Category'] = pd.cut(df['BMI'], bins=bins, labels=labels)\n",
    "\n",
    "df['BMI_Category'] = df['BMI_Category'].cat.add_categories(\"Zero BMI\")\n",
    "df['BMI_Category'].fillna(\"Zero BMI\", inplace=True)"
   ]
  },
  {
   "cell_type": "code",
   "execution_count": null,
   "metadata": {},
   "outputs": [],
   "source": [
    "# no\n",
    "\n",
    "# Define the bins and labels for glucose categories\n",
    "glucose_bins = [0, 100, 125, 150, 200, 1000]\n",
    "glucose_labels = ['Normal', 'Prediabetes', 'Mild Diabetes', 'Moderate Diabetes', 'Severe Diabetes']\n",
    "\n",
    "# Create the 'Glucose_Category' feature\n",
    "df['Glucose_Category'] = pd.cut(df['Glucose'], bins=glucose_bins, labels=glucose_labels)"
   ]
  },
  {
   "cell_type": "code",
   "execution_count": null,
   "metadata": {},
   "outputs": [],
   "source": [
    "# no\n",
    "\n",
    "# Define the bins and labels for skin thickness categories\n",
    "skin_thickness_bins = [0, 10, 20, 30, 40, 100]\n",
    "skin_thickness_labels = ['Very Thin', 'Thin', 'Moderate', 'Thick', 'Very Thick']\n",
    "\n",
    "# Create the 'SkinThickness_Category' feature\n",
    "df['SkinThickness_Category'] = pd.cut(df['SkinThickness'], bins=skin_thickness_bins, labels=skin_thickness_labels)"
   ]
  },
  {
   "cell_type": "code",
   "execution_count": null,
   "metadata": {},
   "outputs": [],
   "source": [
    "# Creating the one hot encode function\n",
    "def one_hot_encode(data, column):\n",
    "    encoded = pd.get_dummies(data[column], drop_first = True)        \n",
    "    data = data.drop(column,axis = 1)\n",
    "    data = data.join(encoded)\n",
    "    return data"
   ]
  },
  {
   "cell_type": "code",
   "execution_count": null,
   "metadata": {},
   "outputs": [],
   "source": [
    "# Applying one hot encode on the categorical data\n",
    "df = one_hot_encode(df, 'Age_Category')\n",
    "df = one_hot_encode(df, 'BMI_Category')\n",
    "df = one_hot_encode(df, 'BloodPressure_Category')\n",
    "df = one_hot_encode(df, 'SkinThickness_Category')\n",
    "df = one_hot_encode(df, 'Glucose_Category')\n"
   ]
  },
  {
   "cell_type": "code",
   "execution_count": null,
   "metadata": {},
   "outputs": [],
   "source": [
    "from sklearn.model_selection import train_test_split\n",
    "\n",
    "X = df.drop(['Outcome'], axis=1)\n",
    "y = df['Outcome']\n",
    "\n",
    "X_train, X_test, y_train, y_test = train_test_split(X, y, test_size=0.2, random_state=42)"
   ]
  },
  {
   "cell_type": "code",
   "execution_count": null,
   "metadata": {},
   "outputs": [],
   "source": [
    "X"
   ]
  },
  {
   "cell_type": "code",
   "execution_count": null,
   "metadata": {},
   "outputs": [],
   "source": [
    "from imblearn.over_sampling import SMOTE\n",
    "\n",
    "# Initialize SMOTE\n",
    "smote = SMOTE(sampling_strategy='auto', random_state=0)\n",
    "\n",
    "# Fit and apply SMOTE to the training data\n",
    "X_train_resampled, y_train_resampled = smote.fit_resample(X_train, y_train)"
   ]
  },
  {
   "cell_type": "code",
   "execution_count": null,
   "metadata": {},
   "outputs": [],
   "source": [
    "class_distribution_before = y_train.value_counts().sort_index()\n",
    "class_distribution_after = y_train_resampled.value_counts().sort_index()\n",
    "\n",
    "# Define class labels\n",
    "class_labels = ['True', 'False']\n",
    "\n",
    "# Create subplots\n",
    "fig, axes = plt.subplots(1, 2, figsize=(10, 5))\n",
    "\n",
    "# Plot class distribution before SMOTE\n",
    "sns.countplot(x=y_train, ax=axes[0])\n",
    "axes[0].set_title('Class Distribution of Outcome Before SMOTE')\n",
    "axes[0].set_xlabel('Class')\n",
    "axes[0].set_ylabel('Count')\n",
    "axes[0].set_xticklabels(class_labels)\n",
    "\n",
    "# Plot class distribution after SMOTE\n",
    "sns.countplot(x=y_train_resampled, ax=axes[1])\n",
    "axes[1].set_title('Class Distribution of Outcome After SMOTE')\n",
    "axes[1].set_xlabel('Class')\n",
    "axes[1].set_ylabel('Count')\n",
    "axes[1].set_xticklabels(class_labels)\n",
    "\n",
    "plt.tight_layout()\n",
    "plt.show()"
   ]
  },
  {
   "cell_type": "code",
   "execution_count": null,
   "metadata": {},
   "outputs": [],
   "source": [
    "clf = DecisionTreeClassifier(random_state=0, criterion='entropy', max_depth=3, \n",
    "                                                                  min_samples_split=2, \n",
    "                                                                  min_samples_leaf=1)\n",
    "clf.fit(X_train_resampled, y_train_resampled)"
   ]
  },
  {
   "cell_type": "code",
   "execution_count": null,
   "metadata": {},
   "outputs": [],
   "source": [
    "from sklearn.model_selection import GridSearchCV\n",
    "from sklearn.metrics import accuracy_score, precision_score, recall_score, f1_score\n",
    "\n",
    "param_grid = {\n",
    "    'max_depth': [2, 3, 5, 7, 10],\n",
    "    'min_samples_split': [2, 5, 10],\n",
    "    'min_samples_leaf': [1, 2, 4],\n",
    "    'criterion': ['gini', 'entropy'],\n",
    "    'max_features': [None, 'sqrt', 'log2'],\n",
    "    'splitter': ['best', 'random'],\n",
    "    'ccp_alpha': [0.0, 0.01, 0.1, 0.2, 0.5]\n",
    "}\n",
    "\n",
    "clf = DecisionTreeClassifier(random_state=0)\n",
    "\n",
    "grid_search = GridSearchCV(estimator=clf, param_grid=param_grid, scoring='accuracy', cv=5)\n",
    "\n",
    "grid_search.fit(X_train_resampled, y_train_resampled)\n",
    "\n",
    "best_params = grid_search.best_params_\n",
    "\n",
    "print(best_params)"
   ]
  },
  {
   "cell_type": "code",
   "execution_count": null,
   "metadata": {},
   "outputs": [],
   "source": [
    "best_max_depth = best_params['max_depth']\n",
    "best_min_samples_split = best_params['min_samples_split']\n",
    "best_min_samples_leaf = best_params['min_samples_leaf']\n",
    "best_min_criterion = best_params['criterion']\n",
    "best_min_max_features = best_params['max_features']\n",
    "best_min_splitter = best_params['splitter']\n",
    "best_ccp_alpha = best_params['ccp_alpha']\n",
    "\n",
    "\n",
    "\n",
    "# With Pre-Pruning\n",
    "clf = DecisionTreeClassifier(random_state=0, criterion=best_min_criterion, max_depth=best_max_depth, \n",
    "                                                                  min_samples_split=best_min_samples_split, \n",
    "                                                                  min_samples_leaf=best_min_samples_leaf,\n",
    "                                                                  max_features=best_min_max_features,\n",
    "                                                                  splitter=best_min_splitter,\n",
    "                                                                  ccp_alpha=best_ccp_alpha)\n",
    "# clf.fit(X_train_resampled, y_train_resampled)"
   ]
  },
  {
   "cell_type": "code",
   "execution_count": null,
   "metadata": {},
   "outputs": [],
   "source": [
    "from sklearn.feature_selection import RFE\n",
    "\n",
    "# Create an RFE object\n",
    "num_features_to_select = 5  # Adjust as needed\n",
    "rfe = RFE(estimator=clf, n_features_to_select=num_features_to_select, step=1)\n",
    "\n",
    "# Fit the RFE model\n",
    "rfe.fit(X_train_resampled, y_train_resampled)\n",
    "\n",
    "# Get the selected features\n",
    "selected_features_mask = rfe.support_\n",
    "selected_features = X_train_resampled.columns[selected_features_mask]\n",
    "\n",
    "# Filter the training data based on selected features\n",
    "X_train_selected = X_train_resampled[selected_features]\n",
    "\n",
    "# Now, you can use X_train_selected for training your classifier\n",
    "clf.fit(X_train_selected, y_train_resampled)"
   ]
  },
  {
   "cell_type": "code",
   "execution_count": null,
   "metadata": {},
   "outputs": [],
   "source": [
    "# # Access feature importances\n",
    "# feature_importances = clf.feature_importances_\n",
    "\n",
    "# # Print or visualize feature importances\n",
    "# for feature, importance in zip(X.columns, feature_importances):\n",
    "#     print(f\"{feature}: {importance}\")"
   ]
  },
  {
   "cell_type": "code",
   "execution_count": null,
   "metadata": {},
   "outputs": [],
   "source": [
    "y_preds = clf.predict(X_test)"
   ]
  },
  {
   "cell_type": "code",
   "execution_count": null,
   "metadata": {},
   "outputs": [],
   "source": [
    "print(\"Accuracy %.4f\" % accuracy_score(y_test, y_preds))\n",
    "print(\"Precision %.4f\" % precision_score(y_test, y_preds))\n",
    "print(\"Recall %.4f\" % recall_score(y_test, y_preds))\n",
    "print(\"F1 %.4f\" % f1_score(y_test, y_preds))"
   ]
  },
  {
   "cell_type": "code",
   "execution_count": null,
   "metadata": {},
   "outputs": [],
   "source": [
    "# plt.figure(figsize=(15, 12))\n",
    "\n",
    "# Use the plot_tree function with adjusted parameters\n",
    "plot_tree(clf,\n",
    "          feature_names=X.columns,\n",
    "          class_names=['No Diabetes', 'Diabetes'],\n",
    "          filled=True,\n",
    "          rounded=True,  \n",
    "          )\n",
    "\n",
    "# Add a title\n",
    "plt.title(\"Decision Tree Visualization\")\n",
    "\n",
    "# Show the plot\n",
    "plt.show()"
   ]
  },
  {
   "cell_type": "code",
   "execution_count": null,
   "metadata": {},
   "outputs": [],
   "source": [
    "from sklearn.metrics import confusion_matrix, roc_curve, auc\n",
    "# Create a confusion matrix\n",
    "conf_matrix = confusion_matrix(y_test, y_preds)\n",
    "\n",
    "# Plot the confusion matrix as a heatmap\n",
    "plt.figure(figsize=(8, 6))\n",
    "sns.heatmap(conf_matrix, annot=True, fmt=\"d\", cmap=\"Blues\", xticklabels=['No Diabetes', 'Diabetes'], yticklabels=['No Diabetes', 'Diabetes'])\n",
    "plt.xlabel('Predicted')\n",
    "plt.ylabel('True')\n",
    "plt.title('Confusion Matrix')\n",
    "plt.show()"
   ]
  },
  {
   "cell_type": "code",
   "execution_count": null,
   "metadata": {},
   "outputs": [],
   "source": [
    "# Compute ROC curve and ROC area for each class\n",
    "fpr, tpr, _ = roc_curve(y_test, clf.predict_proba(X_test)[:, 1])\n",
    "roc_auc = auc(fpr, tpr)\n",
    "\n",
    "# Plot ROC curve\n",
    "plt.figure()\n",
    "plt.plot(fpr, tpr, color='darkorange', lw=2, label='ROC curve (area = %0.2f)' % roc_auc)\n",
    "plt.plot([0, 1], [0, 1], color='navy', lw=2, linestyle='--')\n",
    "plt.xlim([0.0, 1.0])\n",
    "plt.ylim([0.0, 1.05])\n",
    "plt.xlabel('False Positive Rate')\n",
    "plt.ylabel('True Positive Rate')\n",
    "plt.title('Receiver Operating Characteristic (ROC)')\n",
    "plt.legend(loc=\"lower right\")\n",
    "plt.show()"
   ]
  }
 ],
 "metadata": {
  "kernelspec": {
   "display_name": "Python 3",
   "language": "python",
   "name": "python3"
  },
  "language_info": {
   "codemirror_mode": {
    "name": "ipython",
    "version": 3
   },
   "file_extension": ".py",
   "mimetype": "text/x-python",
   "name": "python",
   "nbconvert_exporter": "python",
   "pygments_lexer": "ipython3",
   "version": "3.11.3"
  },
  "orig_nbformat": 4
 },
 "nbformat": 4,
 "nbformat_minor": 2
}
